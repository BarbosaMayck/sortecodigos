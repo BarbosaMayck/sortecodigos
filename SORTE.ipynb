{
  "nbformat": 4,
  "nbformat_minor": 0,
  "metadata": {
    "colab": {
      "provenance": []
    },
    "kernelspec": {
      "name": "python3",
      "display_name": "Python 3"
    },
    "language_info": {
      "name": "python"
    }
  },
  "cells": [
    {
      "cell_type": "code",
      "source": [
        "import random\n",
        "\n",
        "continuar = \"S\"\n",
        "\n",
        "print(\" Seja Bem-Vindo Ao Leãozinho, Onde As Fortunas São Criadas! \")\n",
        "\n",
        "deposito = float(input(\"Faça Seu Depósito (Mínimo R$50): \"))\n",
        "\n",
        "while deposito < 50:\n",
        "  print(\"Tá Liso!?\")\n",
        "  deposito = float(input(\"Faça Seu Depósito (Mínimo R$50): \"))\n",
        "\n",
        "numeros = random.randint(1, 100)\n",
        "print(\"Tente Acertar o Número Escondido Entre 1 e 100. \")\n",
        "print(\"Você Tem Muitas Chances Para Acertar - 10!\")\n",
        "\n",
        "for tentativa in range(1, 11):\n",
        "    tentativa = int(input(\"Digite um Número: \"))\n",
        "\n",
        "    if tentativa == numeros:\n",
        "       print(\"Parabéns! Você Nasceu Virado Para a Lua. \")\n",
        "       break\n",
        "    elif tentativa > numeros:\n",
        "        print(\"Tente um Número Menor!\")\n",
        "    elif tentativa < numeros:\n",
        "        print(\"Tente um Número Maior\")\n",
        "\n",
        "else:\n",
        "  print(\"Seu Trevo de Quatro Folha Falhou! O Número Era\", numeros)\n",
        "\n",
        "continuar = input(\"Quer Tentar Fazer Uma Fortuna Novamente? Escolha 'S' Para SIM e 'N' Para Não: \").upper()"
      ],
      "metadata": {
        "id": "0NtIPlaUyzjm"
      },
      "execution_count": null,
      "outputs": []
    }
  ]
}